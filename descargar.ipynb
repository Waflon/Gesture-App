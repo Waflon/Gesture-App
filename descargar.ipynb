{
 "cells": [
  {
   "cell_type": "code",
   "execution_count": 51,
   "metadata": {},
   "outputs": [],
   "source": [
    "\n",
    "from selenium.webdriver.common.by import By\n",
    "from selenium import webdriver\n",
    "import time\n",
    "\n",
    "URL = \"https://www.characterdesigns.com/nude-photo-index-1\"\n",
    "options = webdriver.FirefoxOptions()\n",
    "options.add_argument('--headless')\n",
    "driver = webdriver.Firefox(options=options)\n",
    "\n",
    "driver.get(URL)\n",
    "time.sleep(2)\n",
    "\n",
    "#lista = driver.find_elements(by=By.CLASS_NAME , value='margin-wrapper')\n"
   ]
  },
  {
   "cell_type": "code",
   "execution_count": null,
   "metadata": {},
   "outputs": [
    {
     "data": {
      "text/plain": [
       "['https://www.characterdesigns.com/photoset-041-outdoor-bus-nude/',\n",
       " 'https://www.characterdesigns.com/photoset-032-nudes-natalie-adams-coreshadows-cool-and-warm-lights/',\n",
       " 'https://www.characterdesigns.com/photoset-031-rim-lighting/',\n",
       " 'https://www.characterdesigns.com/photoset-026-female-nude-core-shadow-study-caylee-site/',\n",
       " 'https://www.characterdesigns.com/photoset-026-female-nude-core-shadow-study-caylee-site-part-02/',\n",
       " 'https://www.characterdesigns.com/photoset-016-redhead-short-hair-nudes-shadows/',\n",
       " 'https://www.characterdesigns.com/photoset-015-redhead-semi-nude/',\n",
       " 'https://www.characterdesigns.com/photoset-013-female-redhead-nudes/',\n",
       " 'https://www.characterdesigns.com/photoset-013-female-redhead-nudes/',\n",
       " 'https://www.characterdesigns.com/photoset-010-asian-nudes-turnaround/',\n",
       " 'https://www.characterdesigns.com/photoset-009-brunette-classic-nude-with-black-robe/',\n",
       " 'https://www.characterdesigns.com/photoset-007-asian-female-nudes/',\n",
       " 'https://www.characterdesigns.com/photoset-005-nude-dressing-blue-corset-top/',\n",
       " 'https://www.characterdesigns.com/photoset-02-asian-female-nude/',\n",
       " 'https://www.characterdesigns.com/photoset-03-redhead-nudes/',\n",
       " 'https://www.characterdesigns.com/photoset-009-brunette-classic-nude-with-black-robe/',\n",
       " 'https://www.characterdesigns.com/photoset-01-classic-female-nude/',\n",
       " 'https://www.characterdesigns.com/new-page-43',\n",
       " 'https://www.characterdesigns.com/photoset-012-brunette-nudes/',\n",
       " 'https://www.characterdesigns.com/photoset-006-female-classic-nudes/',\n",
       " 'https://www.characterdesigns.com/photoset-013-female-redhead-nudes']"
      ]
     },
     "execution_count": 58,
     "metadata": {},
     "output_type": "execute_result"
    }
   ],
   "source": [
    "\n",
    "links = []\n",
    "vinculos = driver.find_elements(by=By.CSS_SELECTOR, value=\"a\")\n",
    "for i in range(len(vinculos)):\n",
    "    links.append(vinculos[i].get_attribute(\"href\"))\n",
    "    \n",
    "lista_links = [i for i in links[21:-4] if i is not None] #limpiar none\n",
    "lista_links"
   ]
  },
  {
   "cell_type": "code",
   "execution_count": 59,
   "metadata": {},
   "outputs": [
    {
     "name": "stdout",
     "output_type": "stream",
     "text": [
      "comenzando a descargar imagenes...\n",
      "imagenes descargadas con exito\n",
      "comenzando a descargar imagenes...\n",
      "imagenes descargadas con exito\n",
      "comenzando a descargar imagenes...\n",
      "imagenes descargadas con exito\n",
      "comenzando a descargar imagenes...\n",
      "imagenes descargadas con exito\n",
      "comenzando a descargar imagenes...\n",
      "imagenes descargadas con exito\n",
      "comenzando a descargar imagenes...\n",
      "imagenes descargadas con exito\n",
      "comenzando a descargar imagenes...\n",
      "imagenes descargadas con exito\n",
      "comenzando a descargar imagenes...\n",
      "imagenes descargadas con exito\n",
      "comenzando a descargar imagenes...\n",
      "imagenes descargadas con exito\n",
      "comenzando a descargar imagenes...\n",
      "imagenes descargadas con exito\n",
      "comenzando a descargar imagenes...\n",
      "imagenes descargadas con exito\n",
      "comenzando a descargar imagenes...\n",
      "imagenes descargadas con exito\n",
      "comenzando a descargar imagenes...\n",
      "imagenes descargadas con exito\n",
      "comenzando a descargar imagenes...\n",
      "imagenes descargadas con exito\n",
      "comenzando a descargar imagenes...\n",
      "imagenes descargadas con exito\n",
      "comenzando a descargar imagenes...\n",
      "imagenes descargadas con exito\n",
      "comenzando a descargar imagenes...\n",
      "imagenes descargadas con exito\n",
      "comenzando a descargar imagenes...\n",
      "imagenes descargadas con exito\n",
      "comenzando a descargar imagenes...\n",
      "imagenes descargadas con exito\n",
      "comenzando a descargar imagenes...\n",
      "imagenes descargadas con exito\n",
      "comenzando a descargar imagenes...\n",
      "imagenes descargadas con exito\n"
     ]
    }
   ],
   "source": [
    "from descargar_imagenes import descargar_imagenes\n",
    "\n",
    "for link in lista_links:\n",
    "    descargar_imagenes(link)"
   ]
  }
 ],
 "metadata": {
  "kernelspec": {
   "display_name": ".venv",
   "language": "python",
   "name": "python3"
  },
  "language_info": {
   "codemirror_mode": {
    "name": "ipython",
    "version": 3
   },
   "file_extension": ".py",
   "mimetype": "text/x-python",
   "name": "python",
   "nbconvert_exporter": "python",
   "pygments_lexer": "ipython3",
   "version": "3.12.7"
  }
 },
 "nbformat": 4,
 "nbformat_minor": 2
}
